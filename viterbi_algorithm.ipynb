{
 "cells": [
  {
   "cell_type": "markdown",
   "metadata": {},
   "source": [
    "# Probabilistic Reasoning over Time\n",
    "---\n",
    "# Finding the Most Likely Sequence with Viterbi Algorithm\n",
    "\n",
    "## Introduction\n",
    "An ***Hidden Markov Model*** (HMM) network is parameterized by two distributions:\n",
    "\n",
    "- the *emission or sensor probabilties* giving the conditional probability of observing evidence values for each hidden state;\n",
    "- the *transition probabilities* giving the conditional probability of moving between states during the sequence. \n",
    "\n",
    "Additionally, an *initial distribution* describes the probability of a sequence starting in each state.\n",
    "\n",
    "At each time $t$, $X_t$ represents the *hidden state* and $E_t$ represents an *observation* at that time."
   ]
  },
  {
   "cell_type": "code",
   "execution_count": 1,
   "metadata": {},
   "outputs": [],
   "source": [
    "from probability import *"
   ]
  },
  {
   "cell_type": "code",
   "execution_count": 2,
   "metadata": {},
   "outputs": [],
   "source": [
    "%psource HiddenMarkovModel"
   ]
  },
  {
   "cell_type": "markdown",
   "metadata": {},
   "source": [
    "## Finding the Most Likely Sequence\n",
    "\n",
    "There is a linear-time algorithm for finding the most likely sequence: the easiest way to think about the problem is to view each sequence as a path through a graph whose nodes are the possible states at each time step. Now consider the task of finding the most likely path through this graph, where the likelihood of any path is the product of the transition probabilities along the path and the probabilities of the given observations at each state. There is a recursive relationship between most likely paths to each state $x_{t+1}$ and most likely paths to each state $x_t$ . We can write this relationship as an equation connecting the probabilities of the paths:\n",
    "\n",
    "$$ \n",
    "\\begin{align*}\n",
    "m_{1:t+1} &= \\max_{x_{1:t}} \\textbf{P}(\\textbf{x}_{1:t}, \\textbf{X}_{t+1} | \\textbf{e}_{1:t+1}) \\\\\n",
    "&= \\alpha \\textbf{P}(\\textbf{e}_{t+1} | \\textbf{X}_{t+1}) \\max_{x_t} \\Big(\\textbf{P}\n",
    "(\\textbf{X}_{t+1} | \\textbf{x}_t) \\max_{x_{1:t-1}} P(\\textbf{x}_{1:t-1}, \\textbf{x}_{t} | \\textbf{e}_{1:t})\\Big)\n",
    "\\end{align*}\n",
    "$$\n",
    "\n",
    "The *Viterbi algorithm* is a dynamic programming algorithm for *finding the most likely sequence of hidden states*, called the Viterbi path, that results in a sequence of observed events in the context of HMMs.\n",
    "This algorithms is useful in many applications, including *speech recognition*, where the aim is to find the most likely sequence of words, given a series of sounds and the *reconstruction of bit strings transmitted over a noisy channel*."
   ]
  },
  {
   "cell_type": "code",
   "execution_count": 3,
   "metadata": {},
   "outputs": [],
   "source": [
    "%psource viterbi"
   ]
  },
  {
   "cell_type": "markdown",
   "metadata": {},
   "source": [
    "### Umbrella World\n",
    "---\n",
    "\n",
    "> You are the security guard stationed at a secret under-ground installation. Each day, you try to guess whether it’s raining today, but your only access to the outside world occurs each morning when you see the director coming in with, or without, an umbrella.\n",
    "\n",
    "In this problem $t$ corresponds to each day of the week, the hidden state $X_t$ represent the *weather* outside at day $t$ (whether it is rainy or sunny) and observations record $E_t$ whether at day $t$ the security guard sees the director carrying an *umbrella* or not."
   ]
  },
  {
   "cell_type": "markdown",
   "metadata": {},
   "source": [
    "#### Observation Emission or Sensor Probabilities $P(E_t := Umbrella_t | X_t := Weather_t)$\n",
    "We need to assume that we have some prior knowledge about the director's behavior to estimate the emission probabilities for each hidden state:\n",
    "\n",
    "| |  $yes$  | $no$ |\n",
    "| --- | --- | --- |\n",
    "| $Sunny$ |   0.10  | 0.90 |\n",
    "| $Rainy$ | 0.80 | 0.20 |\n",
    "\n",
    "#### Initial Probability $P(X_0 := Weather_0)$\n",
    "We will assume that we don't know anything useful about the likelihood of a sequence starting in either state. If the sequences start each week on Monday and end each week on Friday (so each week is a new sequence), then this assumption means that it's equally likely that the weather on a Monday may be Rainy or Sunny. We can assign equal probability to each starting state:\n",
    "\n",
    "| $Sunny$ | $Rainy$ |\n",
    "| --- | ---\n",
    "| 0.5 | 0.5 |\n",
    "\n",
    "#### State Transition Probabilities $P(X_{t} := Weather_t | X_{t-1} := Weather_{t-1})$\n",
    "Finally, we will assume that we can estimate transition probabilities from something like historical weather data for the area. Under this assumption, we get the conditional probability:\n",
    "\n",
    "| |     $Sunny$ | $Rainy$ |\n",
    "| --- | --- | --- |\n",
    "|$Sunny$| 0.70 | 0.30 |\n",
    "|$Rainy$| 0.30 | 0.70 |"
   ]
  },
  {
   "cell_type": "code",
   "execution_count": 4,
   "metadata": {},
   "outputs": [],
   "source": [
    "umbrella_transition = [[0.7, 0.3], [0.3, 0.7]]\n",
    "umbrella_sensor = [[0.9, 0.2], [0.1, 0.8]]\n",
    "umbrellaHMM = HiddenMarkovModel(umbrella_transition, umbrella_sensor)"
   ]
  },
  {
   "cell_type": "code",
   "execution_count": 5,
   "metadata": {},
   "outputs": [],
   "source": [
    "from graphviz import Digraph"
   ]
  },
  {
   "cell_type": "code",
   "execution_count": 6,
   "metadata": {},
   "outputs": [
    {
     "data": {
      "image/svg+xml": [
       "<?xml version=\"1.0\" encoding=\"UTF-8\" standalone=\"no\"?>\r\n",
       "<!DOCTYPE svg PUBLIC \"-//W3C//DTD SVG 1.1//EN\"\r\n",
       " \"http://www.w3.org/Graphics/SVG/1.1/DTD/svg11.dtd\">\r\n",
       "<!-- Generated by graphviz version 2.46.0 (20210118.1747)\r\n",
       " -->\r\n",
       "<!-- Pages: 1 -->\r\n",
       "<svg width=\"221pt\" height=\"333pt\"\r\n",
       " viewBox=\"0.00 0.00 220.95 332.90\" xmlns=\"http://www.w3.org/2000/svg\" xmlns:xlink=\"http://www.w3.org/1999/xlink\">\r\n",
       "<g id=\"graph0\" class=\"graph\" transform=\"scale(1 1) rotate(0) translate(4 328.9)\">\r\n",
       "<polygon fill=\"white\" stroke=\"transparent\" points=\"-4,4 -4,-328.9 216.95,-328.9 216.95,4 -4,4\"/>\r\n",
       "<!-- I -->\r\n",
       "<g id=\"node1\" class=\"node\">\r\n",
       "<title>I</title>\r\n",
       "<ellipse fill=\"none\" stroke=\"black\" cx=\"31.95\" cy=\"-292.95\" rx=\"27.9\" ry=\"27.9\"/>\r\n",
       "<ellipse fill=\"none\" stroke=\"black\" cx=\"31.95\" cy=\"-292.95\" rx=\"31.9\" ry=\"31.9\"/>\r\n",
       "<text text-anchor=\"middle\" x=\"31.95\" y=\"-289.25\" font-family=\"Times New Roman,serif\" font-size=\"14.00\">Start</text>\r\n",
       "</g>\r\n",
       "<!-- R -->\r\n",
       "<g id=\"node2\" class=\"node\">\r\n",
       "<title>R</title>\r\n",
       "<ellipse fill=\"none\" stroke=\"black\" cx=\"83.95\" cy=\"-192\" rx=\"31.7\" ry=\"18\"/>\r\n",
       "<text text-anchor=\"middle\" x=\"83.95\" y=\"-188.3\" font-family=\"Times New Roman,serif\" font-size=\"14.00\">Rainy</text>\r\n",
       "</g>\r\n",
       "<!-- I&#45;&gt;R -->\r\n",
       "<g id=\"edge1\" class=\"edge\">\r\n",
       "<title>I&#45;&gt;R</title>\r\n",
       "<path fill=\"none\" stroke=\"black\" d=\"M46.43,-264.39C53.95,-250.08 63.08,-232.7 70.45,-218.67\"/>\r\n",
       "<polygon fill=\"black\" stroke=\"black\" points=\"73.68,-220.06 75.23,-209.58 67.48,-216.8 73.68,-220.06\"/>\r\n",
       "<text text-anchor=\"middle\" x=\"72.95\" y=\"-231.8\" font-family=\"Times New Roman,serif\" font-size=\"14.00\">0.5</text>\r\n",
       "</g>\r\n",
       "<!-- S -->\r\n",
       "<g id=\"node3\" class=\"node\">\r\n",
       "<title>S</title>\r\n",
       "<ellipse fill=\"none\" stroke=\"black\" cx=\"110.95\" cy=\"-105\" rx=\"33.6\" ry=\"18\"/>\r\n",
       "<text text-anchor=\"middle\" x=\"110.95\" y=\"-101.3\" font-family=\"Times New Roman,serif\" font-size=\"14.00\">Sunny</text>\r\n",
       "</g>\r\n",
       "<!-- I&#45;&gt;S -->\r\n",
       "<g id=\"edge2\" class=\"edge\">\r\n",
       "<title>I&#45;&gt;S</title>\r\n",
       "<path fill=\"none\" stroke=\"black\" d=\"M22.44,-262.27C16.25,-237.43 11.54,-201.69 24.95,-174 35.83,-151.52 58.15,-134.22 77.33,-122.69\"/>\r\n",
       "<polygon fill=\"black\" stroke=\"black\" points=\"79.2,-125.66 86.14,-117.66 75.72,-119.58 79.2,-125.66\"/>\r\n",
       "<text text-anchor=\"middle\" x=\"33.95\" y=\"-188.3\" font-family=\"Times New Roman,serif\" font-size=\"14.00\">0.5</text>\r\n",
       "</g>\r\n",
       "<!-- R&#45;&gt;R -->\r\n",
       "<g id=\"edge5\" class=\"edge\">\r\n",
       "<title>R&#45;&gt;R</title>\r\n",
       "<path fill=\"none\" stroke=\"black\" d=\"M112.63,-199.83C124.14,-200.27 133.79,-197.66 133.79,-192 133.79,-188.11 129.23,-185.66 122.64,-184.65\"/>\r\n",
       "<polygon fill=\"black\" stroke=\"black\" points=\"122.79,-181.16 112.63,-184.17 122.45,-188.15 122.79,-181.16\"/>\r\n",
       "<text text-anchor=\"middle\" x=\"142.79\" y=\"-188.3\" font-family=\"Times New Roman,serif\" font-size=\"14.00\">0.6</text>\r\n",
       "</g>\r\n",
       "<!-- R&#45;&gt;S -->\r\n",
       "<g id=\"edge3\" class=\"edge\">\r\n",
       "<title>R&#45;&gt;S</title>\r\n",
       "<path fill=\"none\" stroke=\"black\" d=\"M91.08,-174.42C93.42,-168.65 95.95,-162.09 97.95,-156 100.37,-148.62 102.65,-140.51 104.59,-133.01\"/>\r\n",
       "<polygon fill=\"black\" stroke=\"black\" points=\"107.99,-133.83 107.02,-123.28 101.2,-132.13 107.99,-133.83\"/>\r\n",
       "<text text-anchor=\"middle\" x=\"110.95\" y=\"-144.8\" font-family=\"Times New Roman,serif\" font-size=\"14.00\">0.2</text>\r\n",
       "</g>\r\n",
       "<!-- Y -->\r\n",
       "<g id=\"node4\" class=\"node\">\r\n",
       "<title>Y</title>\r\n",
       "<ellipse fill=\"none\" stroke=\"black\" cx=\"156.95\" cy=\"-18\" rx=\"27\" ry=\"18\"/>\r\n",
       "<text text-anchor=\"middle\" x=\"156.95\" y=\"-14.3\" font-family=\"Times New Roman,serif\" font-size=\"14.00\">Yes</text>\r\n",
       "</g>\r\n",
       "<!-- R&#45;&gt;Y -->\r\n",
       "<g id=\"edge6\" class=\"edge\">\r\n",
       "<title>R&#45;&gt;Y</title>\r\n",
       "<path fill=\"none\" stroke=\"black\" d=\"M110.89,-182.25C136.42,-172.35 173.27,-153.5 189.95,-123 204.08,-97.14 188.85,-64.31 174.73,-42.52\"/>\r\n",
       "<polygon fill=\"black\" stroke=\"black\" points=\"177.56,-40.47 169.03,-34.19 171.79,-44.42 177.56,-40.47\"/>\r\n",
       "<text text-anchor=\"middle\" x=\"203.95\" y=\"-101.3\" font-family=\"Times New Roman,serif\" font-size=\"14.00\">0.8</text>\r\n",
       "</g>\r\n",
       "<!-- N -->\r\n",
       "<g id=\"node5\" class=\"node\">\r\n",
       "<title>N</title>\r\n",
       "<ellipse fill=\"none\" stroke=\"black\" cx=\"83.95\" cy=\"-18\" rx=\"27\" ry=\"18\"/>\r\n",
       "<text text-anchor=\"middle\" x=\"83.95\" y=\"-14.3\" font-family=\"Times New Roman,serif\" font-size=\"14.00\">No</text>\r\n",
       "</g>\r\n",
       "<!-- R&#45;&gt;N -->\r\n",
       "<g id=\"edge7\" class=\"edge\">\r\n",
       "<title>R&#45;&gt;N</title>\r\n",
       "<path fill=\"none\" stroke=\"black\" d=\"M73.13,-174.78C64.95,-161.5 54.41,-141.88 49.95,-123 46.27,-107.43 46.27,-102.57 49.95,-87 53.55,-71.75 61.12,-56.02 68.21,-43.53\"/>\r\n",
       "<polygon fill=\"black\" stroke=\"black\" points=\"71.37,-45.06 73.46,-34.68 65.35,-41.49 71.37,-45.06\"/>\r\n",
       "<text text-anchor=\"middle\" x=\"58.95\" y=\"-101.3\" font-family=\"Times New Roman,serif\" font-size=\"14.00\">0.2</text>\r\n",
       "</g>\r\n",
       "<!-- S&#45;&gt;R -->\r\n",
       "<g id=\"edge4\" class=\"edge\">\r\n",
       "<title>S&#45;&gt;R</title>\r\n",
       "<path fill=\"none\" stroke=\"black\" d=\"M91.83,-119.97C85.54,-125.7 79.3,-132.9 75.95,-141 72.91,-148.34 73.01,-156.73 74.42,-164.52\"/>\r\n",
       "<polygon fill=\"black\" stroke=\"black\" points=\"71.03,-165.41 76.86,-174.26 77.82,-163.71 71.03,-165.41\"/>\r\n",
       "<text text-anchor=\"middle\" x=\"84.95\" y=\"-144.8\" font-family=\"Times New Roman,serif\" font-size=\"14.00\">0.4</text>\r\n",
       "</g>\r\n",
       "<!-- S&#45;&gt;S -->\r\n",
       "<g id=\"edge8\" class=\"edge\">\r\n",
       "<title>S&#45;&gt;S</title>\r\n",
       "<path fill=\"none\" stroke=\"black\" d=\"M141.53,-112.85C153.14,-113.15 162.74,-110.54 162.74,-105 162.74,-101.19 158.21,-98.77 151.6,-97.72\"/>\r\n",
       "<polygon fill=\"black\" stroke=\"black\" points=\"151.71,-94.22 141.53,-97.15 151.32,-101.21 151.71,-94.22\"/>\r\n",
       "<text text-anchor=\"middle\" x=\"171.74\" y=\"-101.3\" font-family=\"Times New Roman,serif\" font-size=\"14.00\">0.8</text>\r\n",
       "</g>\r\n",
       "<!-- S&#45;&gt;Y -->\r\n",
       "<g id=\"edge9\" class=\"edge\">\r\n",
       "<title>S&#45;&gt;Y</title>\r\n",
       "<path fill=\"none\" stroke=\"black\" d=\"M119.82,-87.61C126.48,-75.3 135.72,-58.23 143.32,-44.19\"/>\r\n",
       "<polygon fill=\"black\" stroke=\"black\" points=\"146.58,-45.51 148.26,-35.05 140.42,-42.18 146.58,-45.51\"/>\r\n",
       "<text text-anchor=\"middle\" x=\"144.95\" y=\"-57.8\" font-family=\"Times New Roman,serif\" font-size=\"14.00\">0.1</text>\r\n",
       "</g>\r\n",
       "<!-- S&#45;&gt;N -->\r\n",
       "<g id=\"edge10\" class=\"edge\">\r\n",
       "<title>S&#45;&gt;N</title>\r\n",
       "<path fill=\"none\" stroke=\"black\" d=\"M105.61,-87.21C101.84,-75.33 96.71,-59.17 92.38,-45.56\"/>\r\n",
       "<polygon fill=\"black\" stroke=\"black\" points=\"95.63,-44.23 89.27,-35.76 88.96,-46.35 95.63,-44.23\"/>\r\n",
       "<text text-anchor=\"middle\" x=\"107.95\" y=\"-57.8\" font-family=\"Times New Roman,serif\" font-size=\"14.00\">0.9</text>\r\n",
       "</g>\r\n",
       "</g>\r\n",
       "</svg>\r\n"
      ],
      "text/plain": [
       "<graphviz.dot.Digraph at 0x1f142d7d508>"
      ]
     },
     "execution_count": 6,
     "metadata": {},
     "output_type": "execute_result"
    }
   ],
   "source": [
    "dot = Digraph()\n",
    "\n",
    "dot.node('I', 'Start', shape='doublecircle')\n",
    "dot.node('R', 'Rainy')\n",
    "dot.node('S','Sunny')\n",
    "\n",
    "dot.edge('I', 'R', label='0.5')\n",
    "dot.edge('I', 'S', label='0.5')\n",
    "\n",
    "dot.edge('R', 'S', label='0.2')\n",
    "dot.edge('S', 'R', label='0.4')\n",
    "\n",
    "dot.node('Y', 'Yes')\n",
    "dot.node('N', 'No')\n",
    "\n",
    "dot.edge('R', 'R', label='0.6')\n",
    "dot.edge('R', 'Y', label='0.8')\n",
    "dot.edge('R', 'N', label='0.2')\n",
    "\n",
    "dot.edge('S', 'S', label='0.8')\n",
    "dot.edge('S', 'Y', label='0.1')\n",
    "dot.edge('S', 'N', label='0.9')\n",
    "\n",
    "dot"
   ]
  },
  {
   "cell_type": "markdown",
   "metadata": {},
   "source": [
    "Suppose that $[true, true, false, true, true]$ is the umbrella sequence for the security guard’s first five days on the job. What is the weather sequence most likely to explain this?"
   ]
  },
  {
   "cell_type": "code",
   "execution_count": 7,
   "metadata": {},
   "outputs": [],
   "source": [
    "from utils import rounder"
   ]
  },
  {
   "cell_type": "code",
   "execution_count": 8,
   "metadata": {},
   "outputs": [
    {
     "data": {
      "text/plain": [
       "([1, 1, 0, 1, 1], [0.8182, 0.5155, 0.1237, 0.0334, 0.021])"
      ]
     },
     "execution_count": 8,
     "metadata": {},
     "output_type": "execute_result"
    }
   ],
   "source": [
    "umbrella_evidence = [True, True, False, True, True]\n",
    "\n",
    "rounder(viterbi(umbrellaHMM, umbrella_evidence))"
   ]
  }
 ],
 "metadata": {
  "kernelspec": {
   "display_name": "Python 3",
   "language": "python",
   "name": "python3"
  },
  "language_info": {
   "codemirror_mode": {
    "name": "ipython",
    "version": 3
   },
   "file_extension": ".py",
   "mimetype": "text/x-python",
   "name": "python",
   "nbconvert_exporter": "python",
   "pygments_lexer": "ipython3",
   "version": "3.7.4"
  }
 },
 "nbformat": 4,
 "nbformat_minor": 4
}
